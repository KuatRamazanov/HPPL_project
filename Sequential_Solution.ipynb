{
  "nbformat": 4,
  "nbformat_minor": 0,
  "metadata": {
    "colab": {
      "name": "sequential solution",
      "provenance": [],
      "collapsed_sections": []
    },
    "kernelspec": {
      "name": "python3",
      "display_name": "Python 3"
    },
    "language_info": {
      "name": "python"
    }
  },
  "cells": [
    {
      "cell_type": "code",
      "execution_count": 1,
      "metadata": {
        "id": "EohZV6ECSxMc"
      },
      "outputs": [],
      "source": [
        "import numpy as np\n",
        "import matplotlib.pyplot as plt"
      ]
    },
    {
      "cell_type": "code",
      "source": [
        "vp = np.load('/content/Marmousi_cropped.npy')"
      ],
      "metadata": {
        "id": "97vIOdo2TFIq"
      },
      "execution_count": 2,
      "outputs": []
    },
    {
      "cell_type": "code",
      "source": [
        "nx = vp.shape[1] # number of grid points in the horizontal direction\n",
        "nz = vp.shape[0] # number of grid points in the vertical direction\n",
        "dd = 5.0 # grid cell size\n",
        "nt = 2000 # number of time samples to be modeled\n",
        "dt = 0.0005 # time step\n",
        "srcx = 900 # source horizontal location in meters\n",
        "srcz = 800 # source vertical location in meters\n",
        "\n",
        "nabs = 40 # number of absorbing cells on the boundary\n",
        "a = 0.0053 # strength of sponge layer\n",
        "FreeSurf=False # free surface condition of top (False for now)\n",
        "\n",
        "# vp = np.arange(2000,4500,(4500-2000)/nz)\n",
        "# vp = np.tile(np.expand_dims(vp,0),[nx,1]) # just coming up with a velocity model\n",
        "\n",
        "#vp = np.ones((nx,nz))*3000.0\n",
        "\n",
        "time = np.arange(0,nt*dt,dt) # time vector\n",
        "f0 = 15. # central frequency of the wavelet\n",
        "t0 = 1/f0 # a shift to make sure wavelet is causal\n",
        "wav  = (1.0-2.0*np.power(np.pi*f0*(time-t0),2))*np.exp(-np.power(np.pi*f0*(time-t0),2)) # computing the wavelet"
      ],
      "metadata": {
        "id": "MY39U97aU7tv"
      },
      "execution_count": 22,
      "outputs": []
    },
    {
      "cell_type": "code",
      "source": [
        "assert dt < dd/(np.sqrt(2.0)*np.max(vp)),'Courant not satisfied!' # making sure Courant number is fine"
      ],
      "metadata": {
        "id": "cfT6oXi2VHqj"
      },
      "execution_count": 11,
      "outputs": []
    },
    {
      "cell_type": "code",
      "source": [
        "def gen_absorb(nx,nz,nabs,a,FreeSurf=False):\n",
        "    absorb = np.ones((nx,nz))\n",
        "    abs_coefs = np.zeros(nabs)\n",
        "    abs_coefs = np.exp(-(a**2 * (nabs-np.arange(nabs))**2))\n",
        "    absorb[:nabs,:] = absorb[:nabs,:]*np.expand_dims(abs_coefs,1)\n",
        "    absorb[-nabs:,:] = absorb[-nabs:,:]*np.expand_dims(abs_coefs[::-1],1)\n",
        "    absorb[:,-nabs:] = absorb[:,-nabs:]*abs_coefs[::-1]\n",
        "    if(FreeSurf==False):\n",
        "        absorb[:,:nabs] = absorb[:,:nabs]*abs_coefs\n",
        "    return absorb"
      ],
      "metadata": {
        "id": "jggB8dw0VLla"
      },
      "execution_count": 12,
      "outputs": []
    },
    {
      "cell_type": "code",
      "source": [
        "def comp_deriv(p,dd):\n",
        "    pdx2 = np.zeros(p.shape)\n",
        "    pdz2 = np.zeros(p.shape)\n",
        "\n",
        "    pdx2[1:-1,1:-1] = (p[2:,1:-1]-2*p[1:-1,1:-1]+p[:-2,1:-1])/(dd**2)\n",
        "    pdz2[1:-1,1:-1] = (p[1:-1,2:]-2*p[1:-1,1:-1]+p[1:-1,:-2])/(dd**2)\n",
        "    return pdx2, pdz2"
      ],
      "metadata": {
        "id": "XqHl_m2kVM2c"
      },
      "execution_count": 13,
      "outputs": []
    },
    {
      "cell_type": "code",
      "source": [
        "def fd_ac(vp,dd,dt,srcx,srcz,wav,nabs=40,a=0.0053,FreeSurf=False):\n",
        "    srci = int(srcx/dd) # find where source is located on the grid\n",
        "    srcj = int(srcz/dd)\n",
        "    nx,nz = vp.shape # infer shapes\n",
        "    nt = wav.shape[0]\n",
        "\n",
        "    field2d = np.zeros((nx,nz,nt),dtype=np.float32) # define variables  - field2d is output wavefield\n",
        "    p = np.zeros((nx,nz),dtype=np.float32) # these are pressures at current, prev and next steps\n",
        "    ppast = np.zeros((nx,nz),dtype=np.float32)\n",
        "    pfut = np.zeros((nx,nz),dtype=np.float32)\n",
        "    \n",
        "    vp2 = vp**2 # square of velocity for easier computation\n",
        "    absorb = gen_absorb(nx,nz,nabs,a,FreeSurf=FreeSurf) # generate absorbing mask\n",
        "    \n",
        "    for i in range(nt): # main loop\n",
        "        pdx2, pdz2 = comp_deriv(p,dd) # compute pressure derivatives\n",
        "        pfut = 2 * p + vp2 * dt**2 * (pdx2 + pdz2) - ppast # compute future pressure from current and prev \n",
        "        pfut[srci,srcj] = pfut[srci,srcj] + wav[i] / (dd * dd) * dt ** 2 # inject source term at selected point\n",
        "        \n",
        "        p *= absorb # apply absorbing mask\n",
        "        pfut *= absorb # apply absorbing mask\n",
        "\n",
        "        field2d[:,:,i] = p  # save current pressure in output array\n",
        "\n",
        "        ppast = p # redefine arrays moving to next step\n",
        "        p = pfut\n",
        "    return field2d"
      ],
      "metadata": {
        "id": "F-QSS56pVNsK"
      },
      "execution_count": 14,
      "outputs": []
    },
    {
      "cell_type": "code",
      "source": [
        "# %%timeit\n",
        "wvfld = fd_ac(vp,dd,dt,srcx,srcz,wav,nabs,a,FreeSurf) # example computation"
      ],
      "metadata": {
        "id": "VI7fuGQdVPY1"
      },
      "execution_count": 23,
      "outputs": []
    },
    {
      "cell_type": "code",
      "source": [
        "it1 = 500\n",
        "it2 = 1500\n",
        "\n",
        "scal=1e-8\n",
        "x = np.arange(0,nx*dd,dd)\n",
        "z = np.arange(0,nz*dd,dd)\n",
        "\n",
        "ext = [x[0],x[-1],z[-1],z[0]]\n",
        "\n",
        "fig,ax = plt.subplots(1,2)\n",
        "ax[0].imshow(10*np.squeeze(wvfld[:,:,it1]).T,cmap='seismic',vmax=scal,vmin=-scal,extent=ext)\n",
        "ax[0].set_xlabel('x (m)')\n",
        "ax[0].set_ylabel('z (m)')\n",
        "ax[0].set_title('Time = '+str(time[it1])+' s')\n",
        "ax[1].imshow(10*np.squeeze(wvfld[:,:,it2]).T,cmap='seismic',vmax=scal,vmin=-scal,extent=ext)\n",
        "ax[1].set_xlabel('x (m)')\n",
        "ax[1].set_ylabel('z (m)')\n",
        "ax[1].set_title('Time = '+str(time[it2])+' s')\n",
        "\n",
        "plt.show()"
      ],
      "metadata": {
        "colab": {
          "base_uri": "https://localhost:8080/",
          "height": 154
        },
        "id": "sC51GLNAVQmD",
        "outputId": "7fe831ff-9d76-4ff0-ad24-7eba2867e8ef"
      },
      "execution_count": 24,
      "outputs": [
        {
          "output_type": "display_data",
          "data": {
            "image/png": "[encoded data removed]",
            "text/plain": [
              "<Figure size 432x288 with 2 Axes>"
            ]
          },
          "metadata": {
            "needs_background": "light"
          }
        }
      ]
    }
  ]
}